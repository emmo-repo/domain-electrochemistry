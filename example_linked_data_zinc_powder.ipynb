{
 "cells": [
  {
   "cell_type": "markdown",
   "metadata": {
    "id": "1wseTQGaB4x9"
   },
   "source": [
    "# Example: Zinc Powder from a Supplier\n",
    "\n",
    "Let's describe an instance of some zinc powder with a set of properties defined in the specification sheet from the manufacturer!\n"
   ]
  },
  {
   "cell_type": "code",
   "execution_count": 17,
   "metadata": {
    "id": "p8-laAJFCqkH"
   },
   "outputs": [],
   "source": [
    "# Install and import dependencies\n",
    "!pip install jsonschema rdflib requests matplotlib > /dev/null\n",
    "\n",
    "import json\n",
    "import rdflib\n",
    "import requests\n",
    "import sys\n",
    "from IPython.display import Image, display\n",
    "import matplotlib.pyplot as plt"
   ]
  },
  {
   "cell_type": "markdown",
   "metadata": {
    "id": "jcTVz9-DEh3m"
   },
   "source": [
    "The JSON-LD data that we will use is:"
   ]
  },
  {
   "cell_type": "code",
   "execution_count": 18,
   "metadata": {
    "id": "gohQKEBrF2QP"
   },
   "outputs": [],
   "source": [
    "jsonld = {\n",
    "  \"@context\": \"https://raw.githubusercontent.com/emmo-repo/domain-electrochemistry/master/context.json\",\n",
    "  \"@type\": [\"Zinc\", \"Powder\"],\n",
    "  \"schema:manufacturer\": {\n",
    "      \"@id\": \"https://www.wikidata.org/wiki/Q680841\",\n",
    "      \"schema:name\": \"Sigma-Aldrich\"\n",
    "  },\n",
    "  \"schema:productID\": \"324930\",\n",
    "  \"schema:url\": \"https://www.sigmaaldrich.com/NO/en/product/aldrich/324930\",\n",
    "  \"hasProperty\": [\n",
    "      {\n",
    "        \"@type\": [\"D95ParticleSize\", \"ConventionalProperty\"],\n",
    "        \"hasNumericalPart\": {\n",
    "              \"@type\": \"Real\",\n",
    "              \"hasNumericalValue\": 150\n",
    "        },\n",
    "        \"hasMeasurementUnit\": \"emmo:MicroMetre\",\n",
    "        \"dc:source\": \"https://www.sigmaaldrich.com/NO/en/product/aldrich/324930\"\n",
    "      }\n",
    "  ]\n",
    "}"
   ]
  },
  {
   "cell_type": "markdown",
   "metadata": {
    "id": "in30p-x4H91Y"
   },
   "source": [
    "Now let's see how a machine would process this by reading it into an RDF Graph! We can then use SPARQL to write a query and list all the things the machine thinks is in this file..."
   ]
  },
  {
   "cell_type": "code",
   "execution_count": 19,
   "metadata": {
    "colab": {
     "base_uri": "https://localhost:8080/"
    },
    "id": "zWibLw6NIrrq",
    "outputId": "d73bfb2f-ac70-43f0-b5bc-987a8b17fe62"
   },
   "outputs": [
    {
     "name": "stdout",
     "output_type": "stream",
     "text": [
      "(rdflib.term.BNode('Nc41f2c7bf5bd497e9161e124fe2bfc66'), rdflib.term.URIRef('http://www.w3.org/1999/02/22-rdf-syntax-ns#type'), rdflib.term.URIRef('https://w3id.org/emmo/domain/chemicalsubstance#substance_9bd78e1c_a4dc_41b6_8013_adb51df1ffdc'))\n",
      "(rdflib.term.BNode('Nc41f2c7bf5bd497e9161e124fe2bfc66'), rdflib.term.URIRef('https://schema.org/manufacturer'), rdflib.term.URIRef('https://www.wikidata.org/wiki/Q680841'))\n",
      "(rdflib.term.BNode('Nd2170694b6284f04aea18b7229390552'), rdflib.term.URIRef('http://www.w3.org/1999/02/22-rdf-syntax-ns#type'), rdflib.term.URIRef('http://emmo.info/emmo#EMMO_18d180e4_5e3e_42f7_820c_e08951223486'))\n",
      "(rdflib.term.BNode('N0b3d6babf6ed4b289629f69ed796200c'), rdflib.term.URIRef('http://emmo.info/emmo#EMMO_8ef3cd6d_ae58_4a8d_9fc0_ad8f49015cd0'), rdflib.term.BNode('Nd2170694b6284f04aea18b7229390552'))\n",
      "(rdflib.term.BNode('Nc41f2c7bf5bd497e9161e124fe2bfc66'), rdflib.term.URIRef('https://schema.org/productID'), rdflib.term.Literal('324930'))\n",
      "(rdflib.term.BNode('N0b3d6babf6ed4b289629f69ed796200c'), rdflib.term.URIRef('http://emmo.info/emmo#EMMO_bed1d005_b04e_4a90_94cf_02bc678a8569'), rdflib.term.URIRef('http://emmo.info/emmo#MicroMetre'))\n",
      "(rdflib.term.BNode('Nc41f2c7bf5bd497e9161e124fe2bfc66'), rdflib.term.URIRef('http://www.w3.org/1999/02/22-rdf-syntax-ns#type'), rdflib.term.URIRef('https://w3id.org/emmo/domain/electrochemistry#electrochemistry_ee479886_6805_4018_95e1_500185e44215'))\n",
      "(rdflib.term.BNode('Nd2170694b6284f04aea18b7229390552'), rdflib.term.URIRef('http://emmo.info/emmo#EMMO_faf79f53_749d_40b2_807c_d34244c192f4'), rdflib.term.Literal('150', datatype=rdflib.term.URIRef('http://www.w3.org/2001/XMLSchema#integer')))\n",
      "(rdflib.term.BNode('Nc41f2c7bf5bd497e9161e124fe2bfc66'), rdflib.term.URIRef('http://emmo.info/emmo#EMMO_e1097637_70d2_4895_973f_2396f04fa204'), rdflib.term.BNode('N0b3d6babf6ed4b289629f69ed796200c'))\n",
      "(rdflib.term.BNode('Nc41f2c7bf5bd497e9161e124fe2bfc66'), rdflib.term.URIRef('https://schema.org/url'), rdflib.term.Literal('https://www.sigmaaldrich.com/NO/en/product/aldrich/324930'))\n",
      "(rdflib.term.BNode('N0b3d6babf6ed4b289629f69ed796200c'), rdflib.term.URIRef('http://purl.org/dc/elements/1.1/source'), rdflib.term.Literal('https://www.sigmaaldrich.com/NO/en/product/aldrich/324930'))\n",
      "(rdflib.term.URIRef('https://www.wikidata.org/wiki/Q680841'), rdflib.term.URIRef('https://schema.org/name'), rdflib.term.Literal('Sigma-Aldrich'))\n",
      "(rdflib.term.BNode('N0b3d6babf6ed4b289629f69ed796200c'), rdflib.term.URIRef('http://www.w3.org/1999/02/22-rdf-syntax-ns#type'), rdflib.term.URIRef('https://w3id.org/emmo/domain/electrochemistry#electrochemistry_02d2d1d1_241c_429b_b4e7_31f2c3dc4835'))\n",
      "(rdflib.term.BNode('N0b3d6babf6ed4b289629f69ed796200c'), rdflib.term.URIRef('http://www.w3.org/1999/02/22-rdf-syntax-ns#type'), rdflib.term.URIRef('http://emmo.info/emmo#EMMO_d8aa8e1f_b650_416d_88a0_5118de945456'))\n"
     ]
    }
   ],
   "source": [
    "# Create a new graph\n",
    "g = rdflib.Graph()\n",
    "\n",
    "g.parse(data=json.dumps(jsonld), format=\"json-ld\")\n",
    "\n",
    "query_all = \"\"\"\n",
    "SELECT ?subject ?predicate ?object\n",
    "WHERE {\n",
    "  ?subject ?predicate ?object\n",
    "}\n",
    "\"\"\"\n",
    "\n",
    "# Execute the SPARQL query\n",
    "all_the_things = g.query(query_all)\n",
    "\n",
    "# Print the results\n",
    "for row in all_the_things:\n",
    "    print(row)\n"
   ]
  },
  {
   "cell_type": "markdown",
   "metadata": {
    "id": "C-w1TbxkI4W5"
   },
   "source": [
    "Now, let's write a SPARQL query to get back some specific thing...like what is the name of the manufacturer?"
   ]
  },
  {
   "cell_type": "code",
   "execution_count": 20,
   "metadata": {
    "colab": {
     "base_uri": "https://localhost:8080/"
    },
    "id": "6bXHGG4cI-kr",
    "outputId": "b16452f8-a053-49a0-fdd9-31d6486ddf85"
   },
   "outputs": [
    {
     "name": "stdout",
     "output_type": "stream",
     "text": [
      "(rdflib.term.Literal('Sigma-Aldrich'),)\n"
     ]
    }
   ],
   "source": [
    "query = \"\"\"\n",
    "PREFIX schema: <https://schema.org/>\n",
    "\n",
    "SELECT ?manufacturerName\n",
    "WHERE {\n",
    "  ?product schema:manufacturer ?manufacturer .\n",
    "  ?manufacturer schema:name ?manufacturerName .\n",
    "}\n",
    "\"\"\"\n",
    "\n",
    "# Execute the SPARQL query\n",
    "results = g.query(query)\n",
    "\n",
    "# Print the results\n",
    "for row in results:\n",
    "    print(row)\n"
   ]
  },
  {
   "cell_type": "code",
   "execution_count": 21,
   "metadata": {
    "colab": {
     "base_uri": "https://localhost:8080/"
    },
    "id": "ntT1Rf_yM6sZ",
    "outputId": "14de771c-3ade-443d-cd65-8435da1b8826"
   },
   "outputs": [
    {
     "name": "stdout",
     "output_type": "stream",
     "text": [
      "Mass of Zinc: 65.38\n"
     ]
    }
   ],
   "source": [
    "endpoint_url = \"https://query.wikidata.org/sparql\"\n",
    "\n",
    "# SPARQL query to get the mass of zinc (Q758)\n",
    "query = \"\"\"\n",
    "SELECT ?mass WHERE {\n",
    "  wd:Q758 wdt:P2067 ?mass .\n",
    "}\n",
    "\"\"\"\n",
    "\n",
    "# Set headers for request\n",
    "headers = {\"User-Agent\": \"WDQS-example Python/%s.%s\" % (sys.version_info[0], sys.version_info[1])}\n",
    "\n",
    "# Execute the request\n",
    "response = requests.get(endpoint_url, headers=headers, params={'query': query, 'format': 'json'})\n",
    "data = response.json()\n",
    "\n",
    "# Extract and print the mass value\n",
    "mass = data['results']['bindings'][0]['mass']['value']\n",
    "print(f\"Mass of Zinc: {mass}\")\n"
   ]
  },
  {
   "cell_type": "code",
   "execution_count": 22,
   "metadata": {
    "colab": {
     "base_uri": "https://localhost:8080/",
     "height": 339
    },
    "id": "T7bkBY0sNqNY",
    "outputId": "450c30c2-0796-4450-d312-6e2d693c3a72"
   },
   "outputs": [
    {
     "name": "stdout",
     "output_type": "stream",
     "text": [
      "Image of Zinc: http://commons.wikimedia.org/wiki/Special:FilePath/Zinc%20fragment%20sublimed%20and%201cm3%20cube.jpg\n"
     ]
    },
    {
     "data": {
      "text/html": [
       "<img src=\"http://commons.wikimedia.org/wiki/Special:FilePath/Zinc%20fragment%20sublimed%20and%201cm3%20cube.jpg\" width=\"300\" height=\"300\"/>"
      ],
      "text/plain": [
       "<IPython.core.display.Image object>"
      ]
     },
     "metadata": {},
     "output_type": "display_data"
    }
   ],
   "source": [
    "# SPARQL query to get the image of zinc (Q758)\n",
    "query = \"\"\"\n",
    "SELECT ?image WHERE {\n",
    "  wd:Q758 wdt:P18 ?image .\n",
    "}\n",
    "\"\"\"\n",
    "\n",
    "# Set headers for request\n",
    "headers = {\"User-Agent\": \"WDQS-example Python/%s.%s\" % (sys.version_info[0], sys.version_info[1])}\n",
    "\n",
    "# Execute the request\n",
    "response = requests.get(endpoint_url, headers=headers, params={'query': query, 'format': 'json'})\n",
    "data = response.json()\n",
    "\n",
    "# Extract and display the image URL\n",
    "if data['results']['bindings']:\n",
    "    image_url = data['results']['bindings'][0]['image']['value']\n",
    "    print(f\"Image of Zinc: {image_url}\")\n",
    "    display(Image(url=image_url, width=300, height=300))  # Adjust width and height as needed\n",
    "\n",
    "else:\n",
    "    print(\"No image found for Zinc.\")"
   ]
  },
  {
   "cell_type": "code",
   "execution_count": 23,
   "metadata": {
    "colab": {
     "base_uri": "https://localhost:8080/",
     "height": 472
    },
    "id": "_IK1Jmqf7Bcv",
    "outputId": "6a2e496e-1915-4f3e-f3cc-7c7a0149b62e"
   },
   "outputs": [
    {
     "data": {
      "image/png": "[encoded data removed]",
      "text/plain": [
       "<Figure size 640x480 with 1 Axes>"
      ]
     },
     "metadata": {},
     "output_type": "display_data"
    }
   ],
   "source": [
    "# Sample data\n",
    "x = [0, 1, 2, 3, 4, 5]\n",
    "y = [0, 1, 4, 9, 16, 25]\n",
    "\n",
    "# Create a figure and axis\n",
    "fig, ax = plt.subplots()\n",
    "\n",
    "# Plot data\n",
    "ax.plot(x, y)\n",
    "\n",
    "# Set labels and title\n",
    "ax.set_xlabel('X Axis Label')\n",
    "ax.set_ylabel('Y Axis Label')\n",
    "ax.set_title('Simple Plot')\n",
    "\n",
    "# Display the plot\n",
    "plt.show()"
   ]
  }
 ],
 "metadata": {
  "colab": {
   "provenance": []
  },
  "kernelspec": {
   "display_name": "Python 3",
   "name": "python3"
  },
  "language_info": {
   "name": "python"
  }
 },
 "nbformat": 4,
 "nbformat_minor": 0
}
