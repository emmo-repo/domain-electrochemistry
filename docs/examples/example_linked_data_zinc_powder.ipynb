{
  "nbformat": 4,
  "nbformat_minor": 0,
  "metadata": {
    "colab": {
      "provenance": []
    },
    "kernelspec": {
      "name": "python3",
      "display_name": "Python 3"
    },
    "language_info": {
      "name": "python"
    }
  },
  "cells": [
    {
      "cell_type": "markdown",
      "source": [
        "# Example: Zinc Powder from a Supplier\n",
        "\n",
        "Let's describe an instance of some zinc powder with a set of properties defined in the specification sheet from the manufacturer!\n",
        "\n",
        "This example covers a few topics:  \n",
        "\n",
        "- How to describe a resource using ontology terms and JSON-LD  **[Basic]**\n",
        "- How to run a simple query using SPARQL **[Moderate]**  \n",
        "- How to use the ontology to fetch more information from other sources **[Advanced]**  \n",
        "\n",
        "A live version of this notebook is available on Google Colab [here](https://colab.research.google.com/drive/19PxdZDPcKda8Ji6Nyzsz-_8KJFgNkmCa?usp=sharing)\n"
      ],
      "metadata": {
        "id": "1wseTQGaB4x9"
      }
    },
    {
      "cell_type": "markdown",
      "source": [
        "## Describe the powder using ontology terms in JSON-LD format\n",
        "The JSON-LD data that we will use is:"
      ],
      "metadata": {
        "id": "jcTVz9-DEh3m"
      }
    },
    {
      "cell_type": "code",
      "source": [
        "jsonld = {\n",
        "  \"@context\": \"https://w3id.org/emmo/domain/electrochemistry/context\",\n",
        "  \"@type\": [\"Zinc\", \"Powder\"],\n",
        "  \"schema:manufacturer\": {\n",
        "      \"@id\": \"https://www.wikidata.org/wiki/Q680841\",\n",
        "      \"schema:name\": \"Sigma-Aldrich\"\n",
        "  },\n",
        "  \"schema:productID\": \"324930\",\n",
        "  \"schema:url\": \"https://www.sigmaaldrich.com/NO/en/product/aldrich/324930\",\n",
        "  \"hasProperty\": [\n",
        "      {\n",
        "        \"@type\": [\"D95ParticleSize\", \"ConventionalProperty\"],\n",
        "        \"hasNumericalPart\": {\n",
        "              \"@type\": \"Real\",\n",
        "              \"hasNumericalValue\": 150\n",
        "        },\n",
        "        \"hasMeasurementUnit\": \"emmo:MicroMetre\",\n",
        "        \"dc:source\": \"https://www.sigmaaldrich.com/NO/en/product/aldrich/324930\"\n",
        "      }\n",
        "  ]\n",
        "}"
      ],
      "metadata": {
        "id": "gohQKEBrF2QP"
      },
      "execution_count": 1,
      "outputs": []
    },
    {
      "cell_type": "markdown",
      "source": [
        "## Parse this description into a graph\n",
        "Now let's see how a machine would process this data by reading it into a Graph!\n",
        "\n",
        "First, we install and import the python dependencies that we need for this example."
      ],
      "metadata": {
        "id": "in30p-x4H91Y"
      }
    },
    {
      "cell_type": "code",
      "source": [
        "# Install and import dependencies\n",
        "!pip install jsonschema rdflib requests matplotlib > /dev/null\n",
        "\n",
        "import json\n",
        "import rdflib\n",
        "import requests\n",
        "import sys\n",
        "from IPython.display import Image, display\n",
        "import matplotlib.pyplot as plt"
      ],
      "metadata": {
        "id": "wk4sFl_eA2ML"
      },
      "execution_count": 2,
      "outputs": []
    },
    {
      "cell_type": "markdown",
      "source": [
        "We create the graph using a very handy python package called [rdflib](https://rdflib.readthedocs.io/en/stable/), which provides us a way to parse our json-ld data, run some queries using the language [SPARQL](https://en.wikipedia.org/wiki/SPARQL), and serialize the graph in any RDF compatible format (e.g. JSON-LD, Turtle, etc.)."
      ],
      "metadata": {
        "id": "lotp-0QABV-2"
      }
    },
    {
      "cell_type": "code",
      "source": [
        "# Create a new graph\n",
        "g = rdflib.Graph()\n",
        "\n",
        "# Parse our json-ld data into the graph\n",
        "g.parse(data=json.dumps(jsonld), format=\"json-ld\")"
      ],
      "metadata": {
        "colab": {
          "base_uri": "https://localhost:8080/"
        },
        "id": "zWibLw6NIrrq",
        "outputId": "ac0190f2-f4fc-466c-dc3b-f1d348899c53"
      },
      "execution_count": 3,
      "outputs": [
        {
          "output_type": "execute_result",
          "data": {
            "text/plain": [
              "<Graph identifier=N9f0e3fae68794ed7b050c80a2dda9a81 (<class 'rdflib.graph.Graph'>)>"
            ]
          },
          "metadata": {},
          "execution_count": 3
        }
      ]
    },
    {
      "cell_type": "markdown",
      "source": [
        "## Query the graph using SPARQL [Moderate]\n",
        "\n",
        "Now, let's write a SPARQL query to get back some specific thing...like what is the name of the manufacturer?"
      ],
      "metadata": {
        "id": "C-w1TbxkI4W5"
      }
    },
    {
      "cell_type": "code",
      "source": [
        "query = \"\"\"\n",
        "PREFIX schema: <https://schema.org/>\n",
        "\n",
        "SELECT ?manufacturerName\n",
        "WHERE {\n",
        "  ?thing schema:manufacturer ?manufacturer .\n",
        "  ?manufacturer schema:name ?manufacturerName .\n",
        "}\n",
        "\"\"\"\n",
        "\n",
        "# Execute the SPARQL query\n",
        "results = g.query(query)\n",
        "\n",
        "# Print the results\n",
        "for row in results:\n",
        "    print(row)\n"
      ],
      "metadata": {
        "colab": {
          "base_uri": "https://localhost:8080/"
        },
        "id": "6bXHGG4cI-kr",
        "outputId": "20dcb639-d81d-4bca-e95d-044986aa7378"
      },
      "execution_count": 4,
      "outputs": [
        {
          "output_type": "stream",
          "name": "stdout",
          "text": [
            "(rdflib.term.Literal('Sigma-Aldrich'),)\n"
          ]
        }
      ]
    },
    {
      "cell_type": "markdown",
      "source": [
        "## Fetch additional information from other sources [Advanced]\n",
        "Ontologies contain a lot of information about the meaning of things, but they don't always contain an exhaustive list of all the properties. Instead, they often point to other sources where that information exists rather than duplicating it. Let's see how you can use the ontology to fetch additional information from other sources.\n",
        "\n",
        "First, we parse the ontology into the knowledge graph and retrieve the IRIs for the terms that we are interested in. In this case, we want to retrieve more information about Zinc from Wikidata, so we query the ontology to find Zinc's Wikidata ID."
      ],
      "metadata": {
        "id": "b7LJC8BubFce"
      }
    },
    {
      "cell_type": "code",
      "source": [
        "# Parse the ontology into the knowledge graph\n",
        "ontology = \"https://raw.githubusercontent.com/emmo-repo/domain-electrochemistry/master/electrochemistry-inferred.ttl\"\n",
        "g.parse(ontology, format='turtle')\n",
        "\n",
        "# Fetch the context\n",
        "context_url = 'https://w3id.org/emmo/domain/electrochemistry/context'\n",
        "response = requests.get(context_url)\n",
        "context_data = response.json()\n",
        "\n",
        "# Look for the IRI of Zinc in the context\n",
        "zinc_iri = context_data.get('@context', {}).get('Zinc')\n",
        "wikidata_iri = context_data.get('@context', {}).get('wikidataReference')\n",
        "\n",
        "# Query the ontology to find the wikidata id for zinc\n",
        "query = \"\"\"\n",
        "SELECT ?wikidataId\n",
        "WHERE {\n",
        "    <%s> <%s> ?wikidataId .\n",
        "}\n",
        "\"\"\" % (zinc_iri, wikidata_iri)\n",
        "\n",
        "qres = g.query(query)\n",
        "for row in qres:\n",
        "    wikidata_id = row.wikidataId.split('/')[-1]\n",
        "\n",
        "print(f\"The Wikidata ID of Zinc: {wikidata_id}\")"
      ],
      "metadata": {
        "colab": {
          "base_uri": "https://localhost:8080/"
        },
        "id": "ntT1Rf_yM6sZ",
        "outputId": "b762ae02-79cb-43f9-8c3b-840c8dc303d8"
      },
      "execution_count": 5,
      "outputs": [
        {
          "output_type": "stream",
          "name": "stdout",
          "text": [
            "The Wikidata ID of Zinc: Q758\n"
          ]
        }
      ]
    },
    {
      "cell_type": "markdown",
      "source": [
        "Now that we have the Wikidata ID for Zinc, we can query their SPARQL endpoint to retrieve some property. Let's ask it for the atomic mass."
      ],
      "metadata": {
        "id": "XGXFrNa5dKSr"
      }
    },
    {
      "cell_type": "code",
      "source": [
        "# Query the Wikidata knowledge graph for more information about zinc\n",
        "wikidata_endpoint = \"https://query.wikidata.org/sparql\"\n",
        "\n",
        "# SPARQL query to get the atomic mass of zinc (Q758)\n",
        "query = \"\"\"\n",
        "SELECT ?mass WHERE {\n",
        "  wd:%s wdt:P2067 ?mass .\n",
        "}\n",
        "\"\"\" % wikidata_id\n",
        "\n",
        "# Execute the request\n",
        "response = requests.get(wikidata_endpoint, params={'query': query, 'format': 'json'})\n",
        "data = response.json()\n",
        "\n",
        "# Extract and print the mass value\n",
        "mass = data['results']['bindings'][0]['mass']['value']\n",
        "print(f\"Wikidata says the atomic mass of zinc is: {mass}\")"
      ],
      "metadata": {
        "colab": {
          "base_uri": "https://localhost:8080/"
        },
        "id": "zTBOZAf-dWQQ",
        "outputId": "9eadcbf7-4204-47df-862b-2a99f865e431"
      },
      "execution_count": 6,
      "outputs": [
        {
          "output_type": "stream",
          "name": "stdout",
          "text": [
            "Wikidata says the atomic mass of zinc is: 65.38\n"
          ]
        }
      ]
    },
    {
      "cell_type": "markdown",
      "source": [
        "We can also retrieve more complex data. For example, let's ask Wikidata to show us an image of zinc."
      ],
      "metadata": {
        "id": "-xdSIS6Idy5m"
      }
    },
    {
      "cell_type": "code",
      "source": [
        "# SPARQL query to get the image of zinc (Q758)\n",
        "query = \"\"\"\n",
        "SELECT ?image WHERE {\n",
        "  wd:%s wdt:P18 ?image .\n",
        "}\n",
        "\"\"\" % wikidata_id\n",
        "\n",
        "# Execute the request\n",
        "response = requests.get(wikidata_endpoint, params={'query': query, 'format': 'json'})\n",
        "data = response.json()\n",
        "\n",
        "# Extract and display the image URL\n",
        "if data['results']['bindings']:\n",
        "    image_url = data['results']['bindings'][0]['image']['value']\n",
        "    print(f\"Image of Zinc: {image_url}\")\n",
        "    display(Image(url=image_url, width=300))  # Adjust width and height as needed\n",
        "\n",
        "else:\n",
        "    print(\"No image found for Zinc.\")"
      ],
      "metadata": {
        "colab": {
          "base_uri": "https://localhost:8080/",
          "height": 222
        },
        "id": "T7bkBY0sNqNY",
        "outputId": "22e0ecc2-05f4-4125-b3f4-7d0c2ae087b7"
      },
      "execution_count": 7,
      "outputs": [
        {
          "output_type": "stream",
          "name": "stdout",
          "text": [
            "Image of Zinc: http://commons.wikimedia.org/wiki/Special:FilePath/Zinc%20fragment%20sublimed%20and%201cm3%20cube.jpg\n"
          ]
        },
        {
          "output_type": "display_data",
          "data": {
            "text/html": [
              "<img src=\"http://commons.wikimedia.org/wiki/Special:FilePath/Zinc%20fragment%20sublimed%20and%201cm3%20cube.jpg\" width=\"300\"/>"
            ],
            "text/plain": [
              "<IPython.core.display.Image object>"
            ]
          },
          "metadata": {}
        }
      ]
    },
    {
      "cell_type": "code",
      "source": [],
      "metadata": {
        "id": "T1qUAeCDVNq3"
      },
      "execution_count": 7,
      "outputs": []
    }
  ]
}