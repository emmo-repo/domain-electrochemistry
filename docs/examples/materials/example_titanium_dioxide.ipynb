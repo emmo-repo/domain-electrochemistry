{
 "cells": [
  {
   "cell_type": "markdown",
   "metadata": {},
   "source": [
    "# Example: Titanium Dioxide Active Material\n",
    "\n",
    "This is an example demonstrating how to describe titanium dioxide that fulfills the role of active material in an electrode. We will see how to:  \n",
    "- describe the material in JSON-LD,  \n",
    "- load the JSON-LD description into a graph, and  \n",
    "- query the graph to retrieve some properties.  \n",
    "\n",
    "## Load the ontology and instantiate an empty graph\n",
    "Fist, we import the necessary libraries, load the pre-inferred version of the electrochemistry ontology and instantiate an empty RDF graph. "
   ]
  },
  {
   "cell_type": "code",
   "execution_count": 1,
   "metadata": {},
   "outputs": [],
   "source": [
    "# Import necessary libraries\n",
    "from rdflib import Graph\n",
    "from ontopy import get_ontology\n",
    "import json\n",
    "\n",
    "# Load the ontology\n",
    "echo = get_ontology('https://w3id.org/emmo/domain/electrochemistry/inferred').load()\n",
    "\n",
    "# Create an empty RDF graph\n",
    "g = Graph()"
   ]
  },
  {
   "cell_type": "markdown",
   "metadata": {},
   "source": [
    "## Write a JSON-LD description of the resource\n",
    "We can now write a JSON-LD description of our titanium dioxide. This can be done either directly in python (like this example) or it can be loaded from an existing .json or .jsonld file.\n",
    "\n",
    "The use of multiple inheretence to describe the resource highlights that it is something with the chemical substance of titanium dioxide and playing the role of an active material. The statement that it is an active material, implies that it is part of an electrode. From a semantic perspective, this is only true when then material is actually integrated into the electrode.\n",
    "\n",
    "Quantitative properties in EMMO are defined using the hasProperty relationship and adhere to the SI recommendations that a quantity is the product of a numerical part and a measurement unit. EMMO also provides the option to distinguish the source of the property. A property that comes from a known measurement is a ``MeasuredProperty``, while a property that is assumed by convention (for example, taken from a data sheet) is a ``ConventionalProperty``."
   ]
  },
  {
   "cell_type": "code",
   "execution_count": 2,
   "metadata": {},
   "outputs": [],
   "source": [
    "# Load the JSON-LD data\n",
    "json_ld_data = {\n",
    "    \"@context\": \"https://w3id.org/emmo/domain/electrochemistry/context\",\n",
    "    \"@type\": [\"TitaniumDioxide\", \"ActiveMaterial\"],\n",
    "    \"schema:manufacturer\": {\n",
    "       \"@type\": \"schema:ResearchOrganization\",\n",
    "       \"@id\": \"https://www.wikidata.org/wiki/Q3041255\",\n",
    "       \"schema:name\": \"SINTEF\"\n",
    "    },\n",
    "    \"hasProperty\": [\n",
    "       {\n",
    "             \"@type\": [\"SpecificCapacity\", \"MeasuredProperty\"],\n",
    "             \"hasNumericalPart\": {\n",
    "                \"@type\": \"RealData\",\n",
    "                \"hasNumberValue\": 650\n",
    "             },\n",
    "             \"hasMeasurementUnit\": \"emmo:MilliAmpereHourPerGram\"\n",
    "       },\n",
    "       {\n",
    "             \"@type\": \"Density\",\n",
    "             \"hasNumericalPart\": {\n",
    "                \"@type\": \"RealData\",\n",
    "                \"hasNumberValue\": 4.23\n",
    "             },\n",
    "             \"hasMeasurementUnit\": \"emmo:GramPerCubicCentiMetre\"\n",
    "       },\n",
    "    ]\n",
    "}"
   ]
  },
  {
   "cell_type": "markdown",
   "metadata": {},
   "source": [
    "## Load into a graph and query\n",
    "Now we can load the JSON-LD description of the resource into an RDF graph that will convert it to a set of triples. We can then query the grpah using the query language SPARQL. Because EMMO ontology class IRIs are not human-readable, we can use the ontopy description of the ontology to make queries using the human-readable labels instead.  \n",
    "\n",
    "In the example below, we query the graph to return the value for the specific capacity of the active material. "
   ]
  },
  {
   "cell_type": "code",
   "execution_count": 3,
   "metadata": {},
   "outputs": [
    {
     "name": "stdout",
     "output_type": "stream",
     "text": [
      "Density: 4.23 emmo:GramPerCubicCentiMetre\n"
     ]
    }
   ],
   "source": [
    "# Convert JSON-LD data to RDF and add to the graph\n",
    "g.parse(data=json.dumps(json_ld_data), format='json-ld')\n",
    "\n",
    "# Query the graph to get the diameter\n",
    "query = f\"\"\"\n",
    "SELECT ?propertyValue ?measurementUnit\n",
    "WHERE {{\n",
    "  ?material a <{echo.ActiveMaterial.iri}> ;\n",
    "             <{echo.hasProperty.iri}> ?property .\n",
    "\n",
    "  ?property a <{echo.Density.iri}> ;\n",
    "            <{echo.hasNumericalPart.iri}> ?numericalPart ;\n",
    "            <{echo.hasMeasurementUnit.iri}> ?measurementUnit .\n",
    "\n",
    "  ?numericalPart <{echo.hasNumberValue.iri}> ?propertyValue .\n",
    "}}\n",
    "\"\"\"\n",
    "\n",
    "# Run the query\n",
    "results = g.query(query)\n",
    "\n",
    "# Print results\n",
    "for row in results:\n",
    "    unit = row.measurementUnit\n",
    "    print(f\"Density: {row.propertyValue} {row.measurementUnit}\")"
   ]
  }
 ],
 "metadata": {
  "kernelspec": {
   "display_name": ".venv",
   "language": "python",
   "name": "python3"
  },
  "language_info": {
   "codemirror_mode": {
    "name": "ipython",
    "version": 3
   },
   "file_extension": ".py",
   "mimetype": "text/x-python",
   "name": "python",
   "nbconvert_exporter": "python",
   "pygments_lexer": "ipython3",
   "version": "3.10.10"
  }
 },
 "nbformat": 4,
 "nbformat_minor": 2
}
